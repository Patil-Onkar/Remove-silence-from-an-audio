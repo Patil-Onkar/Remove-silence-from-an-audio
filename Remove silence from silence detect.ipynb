{
 "cells": [
  {
   "cell_type": "code",
   "execution_count": 1,
   "id": "91e5c581",
   "metadata": {},
   "outputs": [],
   "source": [
    "from scipy.io import wavfile\n",
    "from pesq import pesq\n",
    "import os\n",
    "from os import listdir\n",
    "from pydub import AudioSegment\n",
    "from scipy.io.wavfile import read, write\n",
    "from IPython.display import Audio\n",
    "import matplotlib.pyplot as plt\n",
    "from pydub import AudioSegment, effects \n",
    "import random\n",
    "from pydub.silence import split_on_silence\n",
    "import numpy as np\n",
    "import tqdm\n",
    "import pandas as pd\n",
    "import time\n",
    "\n",
    "import pickle\n",
    "import subprocess\n",
    "\n",
    "import matplotlib.pyplot as plt\n",
    "import numpy as np\n",
    "import wave"
   ]
  },
  {
   "cell_type": "code",
   "execution_count": 2,
   "id": "8994e008",
   "metadata": {},
   "outputs": [],
   "source": [
    "from pyAudioAnalysis import audioBasicIO as aIO\n",
    "from pyAudioAnalysis import audioSegmentation as aS\n",
    "from pydub import AudioSegment, silence\n",
    "import librosa\n"
   ]
  },
  {
   "cell_type": "code",
   "execution_count": 8,
   "id": "183d0362",
   "metadata": {},
   "outputs": [],
   "source": [
    "def merge(sil):\n",
    "    ans=[]\n",
    "    check=False\n",
    "    for i in range(1,len(sil)):\n",
    "        tmp=sil[i-1][1]\n",
    "        if tmp==sil[i][0]:\n",
    "            ans.append((sil[i-1][0],sil[i][1]))\n",
    "            check=True\n",
    "        else:\n",
    "            if not check:\n",
    "                ans.append(sil[i-1])\n",
    "            else:    \n",
    "                check=False\n",
    "    if ans[-1][1]!=sil[-1][1]:\n",
    "        ans.append(sil[-1])\n",
    "    return ans"
   ]
  },
  {
   "cell_type": "code",
   "execution_count": 59,
   "id": "6a415e76",
   "metadata": {},
   "outputs": [],
   "source": [
    "def remove_silence(file,sil,keep_sil,out_path):\n",
    "    '''\n",
    "    This function removes silence from the audio.\n",
    "    \n",
    "    Input: \n",
    "    file = Input audio file path\n",
    "    sil = List of silence time slots that needs to be removed\n",
    "    keep_sil = Time to keep as allowed silence after removing silence\n",
    "    out_path = Output path of audio file\n",
    "    \n",
    "    returns:\n",
    "    Non - silent patches and save the new audio in out path\n",
    "    '''\n",
    "    rate,aud=read(path)\n",
    "    a=float(keep_sil)/2\n",
    "    sil_updated=[(i[0]+a,i[1]-a) for i in sil]\n",
    "    \n",
    "    # convert the silence patch to non-sil patches\n",
    "    non_sil=[]\n",
    "    tmp=0\n",
    "    ed=len(aud)/rate\n",
    "    for i in range(len(sil_updated)):\n",
    "        non_sil.append((tmp,sil_updated[i][0]))\n",
    "        tmp=sil_updated[i][1]\n",
    "    if sil_updated[-1][1]+a/2<ed:\n",
    "        non_sil.append((sil_updated[-1][1],ed))\n",
    "    if non_sil[0][0]==non_sil[0][1]:\n",
    "        del non_sil[0]\n",
    "    \n",
    "    # cut the audio\n",
    "    print('slicing starte')\n",
    "    ans=[]\n",
    "    ad=list(aud)\n",
    "    for i in tqdm.tqdm(non_sil):\n",
    "        ans=ans+ad[int(i[0]*rate):int(i[1]*rate)]\n",
    "    #nm=path.split('/')[-1]\n",
    "    write(out_path,rate,np.array(ans))\n",
    "    return non_sil"
   ]
  },
  {
   "cell_type": "code",
   "execution_count": 46,
   "id": "8749fef8",
   "metadata": {},
   "outputs": [],
   "source": [
    "# shows the sound waves\n",
    "def visualize(path: str,sil=None):\n",
    "    raw = wave.open(path)\n",
    "    signal = raw.readframes(-1)\n",
    "    signal = np.frombuffer(signal, dtype =\"int16\")\n",
    "    f_rate = raw.getframerate()\n",
    "    time = np.linspace(\n",
    "        0, # start\n",
    "        len(signal) / f_rate,\n",
    "        num = len(signal)\n",
    "    )\n",
    "    plt.figure(1)\n",
    "    plt.title(\"Sound Wave\")\n",
    "    plt.xlabel(\"Time\")\n",
    "    plt.plot(time, signal)\n",
    "    if sil:\n",
    "        for i in sil:\n",
    "            plt.axvline(x=i[0], color='red') \n",
    "            plt.axvline(x=i[1], color='red')\n",
    "    plt.show()"
   ]
  },
  {
   "cell_type": "code",
   "execution_count": 47,
   "id": "8920a39f",
   "metadata": {},
   "outputs": [],
   "source": [
    "def detect_silence(path,time):\n",
    "    command=\"ffmpeg -i \"+path+\" -af silencedetect=n=-30dB:d=\"+str(time)+\" -f null -\"\n",
    "    out = subprocess.Popen(command, stdout=subprocess.PIPE, stderr=subprocess.STDOUT)\n",
    "    stdout, stderr = out.communicate()\n",
    "    s=stdout.decode(\"utf-8\")\n",
    "    k=s.split('[silencedetect @')\n",
    "    if len(k)==1:\n",
    "        #print(stderr)\n",
    "        return None\n",
    "        \n",
    "    start,end=[],[]\n",
    "    for i in range(1,len(k)):\n",
    "        x=k[i].split(']')[1]\n",
    "        if i%2==0:\n",
    "            x=x.split('|')[0]\n",
    "            x=x.split(':')[1].strip()\n",
    "            end.append(float(x))\n",
    "        else:\n",
    "            x=x.split(':')[1]\n",
    "            x=x.split('size')[0]\n",
    "            x=x.replace('\\r','')\n",
    "            x=x.replace('\\n','').strip()\n",
    "            start.append(float(x))\n",
    "    return list(zip(start,end))"
   ]
  },
  {
   "cell_type": "code",
   "execution_count": 49,
   "id": "feff284a",
   "metadata": {},
   "outputs": [],
   "source": [
    "path='../WavFiles/36.wav'\n",
    "files=[path]"
   ]
  },
  {
   "cell_type": "code",
   "execution_count": 53,
   "id": "1f0b55e9",
   "metadata": {},
   "outputs": [
    {
     "name": "stdout",
     "output_type": "stream",
     "text": [
      "[(97.1419, 113.42)]\n"
     ]
    },
    {
     "data": {
      "image/png": "[encoded data removed]",
      "text/plain": [
       "<Figure size 432x288 with 1 Axes>"
      ]
     },
     "metadata": {
      "needs_background": "light"
     },
     "output_type": "display_data"
    }
   ],
   "source": [
    "for f in files:\n",
    "    #file='../WavFiles/'+f\n",
    "    lst=detect_silence(f,10)\n",
    "    print(lst)\n",
    "    if lst:\n",
    "        try:\n",
    "            visualize(f,lst)\n",
    "        except Exception as e:\n",
    "            print(e)"
   ]
  },
  {
   "cell_type": "code",
   "execution_count": 60,
   "id": "e3c03cee",
   "metadata": {},
   "outputs": [
    {
     "name": "stdout",
     "output_type": "stream",
     "text": [
      "slicing starte\n"
     ]
    },
    {
     "name": "stderr",
     "output_type": "stream",
     "text": [
      "100%|████████████████████████████████████████████████████████████████████████████████████| 2/2 [00:00<00:00,  5.36it/s]\n"
     ]
    },
    {
     "data": {
      "text/plain": [
       "[(0, 99.6419), (110.92, 292.25902494331064)]"
      ]
     },
     "execution_count": 60,
     "metadata": {},
     "output_type": "execute_result"
    }
   ],
   "source": [
    "remove_silence(path,[(97.1419, 113.42)],5)"
   ]
  },
  {
   "cell_type": "code",
   "execution_count": 61,
   "id": "d75a7c02",
   "metadata": {},
   "outputs": [
    {
     "data": {
      "image/png": "[encoded data removed]",
      "text/plain": [
       "<Figure size 432x288 with 1 Axes>"
      ]
     },
     "metadata": {
      "needs_background": "light"
     },
     "output_type": "display_data"
    }
   ],
   "source": [
    "visualize('36.wav')"
   ]
  },
  {
   "cell_type": "code",
   "execution_count": null,
   "id": "cf2ffbeb",
   "metadata": {},
   "outputs": [],
   "source": []
  }
 ],
 "metadata": {
  "kernelspec": {
   "display_name": "Python 3 (ipykernel)",
   "language": "python",
   "name": "python3"
  },
  "language_info": {
   "codemirror_mode": {
    "name": "ipython",
    "version": 3
   },
   "file_extension": ".py",
   "mimetype": "text/x-python",
   "name": "python",
   "nbconvert_exporter": "python",
   "pygments_lexer": "ipython3",
   "version": "3.9.7"
  }
 },
 "nbformat": 4,
 "nbformat_minor": 5
}
